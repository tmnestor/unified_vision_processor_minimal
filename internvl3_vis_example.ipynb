{
 "cells": [
  {
   "cell_type": "code",
   "execution_count": 1,
   "metadata": {},
   "outputs": [],
   "source": [
    "from pathlib import Path\n",
    "\n",
    "import torch\n",
    "from PIL import Image\n",
    "from transformers import AutoModel, AutoTokenizer"
   ]
  },
  {
   "cell_type": "code",
   "execution_count": 2,
   "metadata": {},
   "outputs": [
    {
     "name": "stdout",
     "output_type": "stream",
     "text": [
      "FlashAttention2 is not installed.\n"
     ]
    },
    {
     "data": {
      "application/vnd.jupyter.widget-view+json": {
       "model_id": "f65178f5b9c542fab7870cf92013b816",
       "version_major": 2,
       "version_minor": 0
      },
      "text/plain": [
       "Loading checkpoint shards:   0%|          | 0/4 [00:00<?, ?it/s]"
      ]
     },
     "metadata": {},
     "output_type": "display_data"
    }
   ],
   "source": [
    "model_id = \"/home/jovyan/nfs_share/models/InternVL3-8B\"\n",
    "# here, specify the name of the image\n",
    "imageName = \"/home/jovyan/nfs_share/tod/datasets/synthetic_invoice_014.png\"\n",
    "\n",
    "model = AutoModel.from_pretrained(\n",
    "    model_id,\n",
    "    torch_dtype=torch.bfloat16,\n",
    "    device_map=\"auto\",\n",
    "    trust_remote_code=True\n",
    ")\n",
    "tokenizer = AutoTokenizer.from_pretrained(\n",
    "    model_id,\n",
    "    trust_remote_code=True\n",
    ")\n",
    "\n",
    "# open the image\n",
    "image = Image.open(imageName)"
   ]
  },
  {
   "cell_type": "code",
   "execution_count": 3,
   "metadata": {},
   "outputs": [],
   "source": [
    "# InternVL3 uses a simpler prompt format\n",
    "question = \"How much did Jessica pay?\""
   ]
  },
  {
   "cell_type": "code",
   "execution_count": null,
   "metadata": {},
   "outputs": [],
   "source": "# Process image for InternVL3 (following vision_processor implementation)\nimport torchvision.transforms as T\nfrom torchvision.transforms.functional import InterpolationMode\n\n# InternVL3 image processing (same as production)\nIMAGENET_MEAN = (0.485, 0.456, 0.406)\nIMAGENET_STD = (0.229, 0.224, 0.225)\nimage_size = 448\n\n# Build transform (same as _build_transform in vision_processor)\ntransform = T.Compose([\n    T.Lambda(lambda img: img.convert(\"RGB\") if img.mode != \"RGB\" else img),\n    T.Resize((image_size, image_size), interpolation=InterpolationMode.BICUBIC),\n    T.ToTensor(),\n    T.Normalize(mean=IMAGENET_MEAN, std=IMAGENET_STD),\n])\n\n# Process image to pixel_values\npixel_values = transform(image).unsqueeze(0)  # Shape: [1, 3, 448, 448]\n\n# Move to appropriate device and dtype (critical step!)\nif torch.cuda.is_available():\n    pixel_values = pixel_values.cuda().to(torch.float16)\nelse:\n    pixel_values = pixel_values.to(torch.float32)\n\nprint(f\"Pixel values shape: {pixel_values.shape}\")\nprint(f\"Pixel values device: {pixel_values.device}\")\n\n# Generation config (following production settings)\ngeneration_config = {\n    \"max_new_tokens\": 2000,\n    \"do_sample\": False,  # Deterministic output like production\n    \"pad_token_id\": tokenizer.eos_token_id,\n}\n\n# Generate response using InternVL3 (production method)\ntry:\n    response = model.chat(\n        tokenizer=tokenizer,\n        pixel_values=pixel_values,\n        question=question,\n        generation_config=generation_config,\n    )\n    print(\"✅ InternVL3 response generated successfully\")\n    print(\"\\n\" + \"=\"*50)\n    print(response)\n    print(\"=\"*50)\n    \nexcept Exception as e:\n    print(f\"❌ Error during InternVL3 inference: {e}\")\n    print(\"This suggests a model loading or compatibility issue.\")"
  },
  {
   "cell_type": "code",
   "execution_count": null,
   "metadata": {},
   "outputs": [],
   "source": "# save the answer in a file\noutput_path = Path(\"/home/jovyan/nfs_share/tod/output/internvl3_output.txt\")\n\n# Ensure the output directory exists\noutput_path.parent.mkdir(parents=True, exist_ok=True)\n\n# Write the response to file\nwith output_path.open(\"w\", encoding=\"utf-8\") as text_file:\n    text_file.write(response)\n\nprint(f\"✅ Response saved to {output_path}\")"
  }
 ],
 "metadata": {
  "kernelspec": {
   "display_name": "Python (unified_vision_processor)",
   "language": "python",
   "name": "unified_vision_processor"
  },
  "language_info": {
   "codemirror_mode": {
    "name": "ipython",
    "version": 3
   },
   "file_extension": ".py",
   "mimetype": "text/x-python",
   "name": "python",
   "nbconvert_exporter": "python",
   "pygments_lexer": "ipython3",
   "version": "3.11.13"
  }
 },
 "nbformat": 4,
 "nbformat_minor": 4
}