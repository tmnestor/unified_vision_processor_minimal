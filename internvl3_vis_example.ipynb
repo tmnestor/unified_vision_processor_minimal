{
 "cells": [
  {
   "cell_type": "code",
   "execution_count": 1,
   "metadata": {},
   "outputs": [],
   "source": [
    "from pathlib import Path\n",
    "\n",
    "import torch\n",
    "from PIL import Image\n",
    "from transformers import AutoModel, AutoTokenizer"
   ]
  },
  {
   "cell_type": "code",
   "execution_count": 2,
   "metadata": {},
   "outputs": [
    {
     "name": "stdout",
     "output_type": "stream",
     "text": [
      "FlashAttention2 is not installed.\n"
     ]
    },
    {
     "data": {
      "application/vnd.jupyter.widget-view+json": {
       "model_id": "5b91b60bb69b4d6c9f0b20a175e9a15d",
       "version_major": 2,
       "version_minor": 0
      },
      "text/plain": [
       "Loading checkpoint shards:   0%|          | 0/4 [00:00<?, ?it/s]"
      ]
     },
     "metadata": {},
     "output_type": "display_data"
    }
   ],
   "source": [
    "model_id = \"/home/jovyan/nfs_share/models/InternVL3-8B\"\n",
    "# here, specify the name of the image\n",
    "imageName = \"/home/jovyan/nfs_share/tod/datasets/synthetic_invoice_014.png\"\n",
    "\n",
    "model = AutoModel.from_pretrained(\n",
    "    model_id,\n",
    "    torch_dtype=torch.bfloat16,\n",
    "    device_map=\"auto\",\n",
    "    trust_remote_code=True\n",
    ")\n",
    "tokenizer = AutoTokenizer.from_pretrained(\n",
    "    model_id,\n",
    "    trust_remote_code=True\n",
    ")\n",
    "\n",
    "# open the image\n",
    "image = Image.open(imageName)"
   ]
  },
  {
   "cell_type": "code",
   "execution_count": 3,
   "metadata": {},
   "outputs": [],
   "source": [
    "# InternVL3 uses a simpler prompt format\n",
    "question = \"How much did Jessica pay?\""
   ]
  },
  {
   "cell_type": "code",
   "execution_count": null,
   "metadata": {},
   "outputs": [],
   "source": "# Process image for InternVL3\nimport torchvision.transforms as T\nfrom torchvision.transforms.functional import InterpolationMode\n\n# InternVL3 image processing\nIMAGENET_MEAN = (0.485, 0.456, 0.406)\nIMAGENET_STD = (0.229, 0.224, 0.225)\nimage_size = 448\n\ntransform = T.Compose([\n    T.Lambda(lambda img: img.convert(\"RGB\") if img.mode != \"RGB\" else img),\n    T.Resize((image_size, image_size), interpolation=InterpolationMode.BICUBIC),\n    T.ToTensor(),\n    T.Normalize(mean=IMAGENET_MEAN, std=IMAGENET_STD),\n])\n\npixel_values = transform(image).unsqueeze(0)  # Shape: [1, 3, 448, 448]\nif torch.cuda.is_available():\n    pixel_values = pixel_values.cuda().to(torch.float16)\nelse:\n    pixel_values = pixel_values.to(torch.float32)\n\n# Generate response using InternVL3\nresponse = model.chat(\n    tokenizer=tokenizer,\n    pixel_values=pixel_values,\n    question=question,\n    generation_config={\n        \"max_new_tokens\": 2000,\n        \"do_sample\": True,\n        \"temperature\": 0.7\n    }\n)\n\nprint(response)"
  },
  {
   "cell_type": "code",
   "execution_count": null,
   "metadata": {},
   "outputs": [],
   "source": [
    "# save the answer in a file\n",
    "with Path(\"/home/jovyan/nfs_share/tod/output/internvl3_output.txt\").open(\n",
    "    \"w\", encoding=\"utf-8\"\n",
    ") as text_file:\n",
    "    text_file.write(response)"
   ]
  }
 ],
 "metadata": {
  "kernelspec": {
   "display_name": "Python (unified_vision_processor)",
   "language": "python",
   "name": "unified_vision_processor"
  },
  "language_info": {
   "codemirror_mode": {
    "name": "ipython",
    "version": 3
   },
   "file_extension": ".py",
   "mimetype": "text/x-python",
   "name": "python",
   "nbconvert_exporter": "python",
   "pygments_lexer": "ipython3",
   "version": "3.11.13"
  }
 },
 "nbformat": 4,
 "nbformat_minor": 4
}