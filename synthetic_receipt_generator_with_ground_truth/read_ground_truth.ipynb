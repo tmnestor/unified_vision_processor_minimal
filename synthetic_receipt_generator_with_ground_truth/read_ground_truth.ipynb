{
 "cells": [
  {
   "cell_type": "code",
   "execution_count": 1,
   "id": "f586d23e",
   "metadata": {},
   "outputs": [],
   "source": [
    "from pathlib import Path\n",
    "\n",
    "import pandas as pd\n",
    "\n",
    "# Display settings for better output\n",
    "pd.set_option(\"display.max_columns\", None)\n",
    "pd.set_option(\"display.width\", None)\n",
    "pd.set_option(\"display.max_colwidth\", 50)"
   ]
  },
  {
   "cell_type": "code",
   "execution_count": null,
   "id": "1g72cr1lisw",
   "metadata": {},
   "outputs": [],
   "source": [
    "# Load the ground truth CSV file\n",
    "csv_path = \"test_synthetic/evaluation_ground_truth.csv\"\n",
    "ground_truth_data = pd.read_csv(csv_path)\n",
    "\n",
    "print(\"📊 Ground Truth Dataset Overview\")\n",
    "print(\"=\" * 50)\n",
    "print(f\"📁 File: {csv_path}\")\n",
    "print(\n",
    "    f\"📏 Shape: {ground_truth_data.shape[0]} rows × {ground_truth_data.shape[1]} columns\"\n",
    ")\n",
    "print(f\"💾 File size: {Path(csv_path).stat().st_size} bytes\")\n",
    "print()"
   ]
  },
  {
   "cell_type": "code",
   "execution_count": null,
   "id": "3ket2xzk13p",
   "metadata": {},
   "outputs": [],
   "source": [
    "# Display column information\n",
    "print(\"🏷️  Column Information\")\n",
    "print(\"=\" * 50)\n",
    "print(f\"Total columns: {len(ground_truth_data.columns)}\")\n",
    "print(\"\\nColumn names:\")\n",
    "for i, col in enumerate(ground_truth_data.columns, 1):\n",
    "    print(f\"{i:2d}. {col}\")\n",
    "print()"
   ]
  },
  {
   "cell_type": "code",
   "execution_count": null,
   "id": "pzgj82la9rk",
   "metadata": {},
   "outputs": [],
   "source": [
    "# Display the full dataset\n",
    "print(\"📋 Complete Ground Truth Data\")\n",
    "print(\"=\" * 50)\n",
    "ground_truth_data"
   ]
  },
  {
   "cell_type": "code",
   "execution_count": null,
   "id": "km8apdaewwb",
   "metadata": {},
   "outputs": [],
   "source": [
    "# Focus on key fields that were problematic in the spreadsheet view\n",
    "print(\"🔍 Key Customer & Contact Fields\")\n",
    "print(\"=\" * 50)\n",
    "key_fields = [\"image_file\", \"PAYER_NAME\", \"PAYER_ADDRESS\", \"PAYER_PHONE\", \"PAYER_EMAIL\"]\n",
    "ground_truth_data[key_fields]"
   ]
  },
  {
   "cell_type": "code",
   "execution_count": null,
   "id": "ygrgtn7xe9",
   "metadata": {},
   "outputs": [],
   "source": [
    "# Verify data integrity - check for proper field alignment\n",
    "print(\"✅ Data Integrity Check\")\n",
    "print(\"=\" * 50)\n",
    "\n",
    "# Check the first row in detail\n",
    "first_row = ground_truth_data.iloc[0]\n",
    "print(f\"Image: {first_row['image_file']}\")\n",
    "print(f\"Customer: {first_row['PAYER_NAME']}\")\n",
    "print(f\"Address: '{first_row['PAYER_ADDRESS']}'\")\n",
    "print(f\"Phone: '{first_row['PAYER_PHONE']}'\")\n",
    "print(f\"Email: '{first_row['PAYER_EMAIL']}'\")\n",
    "print()\n",
    "\n",
    "# Check for any N/A patterns\n",
    "print(\"📊 Field Completeness:\")\n",
    "for col in [\"PAYER_ADDRESS\", \"PAYER_PHONE\", \"PAYER_EMAIL\"]:\n",
    "    na_count = (ground_truth_data[col] == \"N/A\").sum()\n",
    "    total = len(ground_truth_data)\n",
    "    print(\n",
    "        f\"{col}: {total - na_count}/{total} filled ({100 * (total - na_count) / total:.1f}%)\"\n",
    "    )"
   ]
  },
  {
   "cell_type": "code",
   "execution_count": null,
   "id": "qphwg8oqnbp",
   "metadata": {},
   "outputs": [],
   "source": [
    "# Display financial fields\n",
    "print(\"💰 Financial Fields\")\n",
    "print(\"=\" * 50)\n",
    "financial_fields = [\n",
    "    \"image_file\",\n",
    "    \"DOCUMENT_TYPE\",\n",
    "    \"SUPPLIER\",\n",
    "    \"ABN\",\n",
    "    \"GST\",\n",
    "    \"SUBTOTAL\",\n",
    "    \"TOTAL\",\n",
    "]\n",
    "ground_truth_data[financial_fields]"
   ]
  },
  {
   "cell_type": "code",
   "execution_count": null,
   "id": "iuq9eroxid",
   "metadata": {},
   "outputs": [],
   "source": [
    "# Check for banking fields (should be N/A for invoice documents)\n",
    "print(\"🏦 Banking Fields (Expected N/A for invoices)\")\n",
    "print(\"=\" * 50)\n",
    "banking_fields = [\n",
    "    \"BANK_NAME\",\n",
    "    \"BSB_NUMBER\",\n",
    "    \"BANK_ACCOUNT_NUMBER\",\n",
    "    \"ACCOUNT_HOLDER\",\n",
    "    \"STATEMENT_PERIOD\",\n",
    "    \"OPENING_BALANCE\",\n",
    "    \"CLOSING_BALANCE\",\n",
    "    \"DESCRIPTIONS\",\n",
    "]\n",
    "\n",
    "banking_data = ground_truth_data[[\"image_file\"] + banking_fields]\n",
    "banking_data"
   ]
  },
  {
   "cell_type": "markdown",
   "id": "lltmghkwcpn",
   "metadata": {},
   "source": [
    "## Summary\n",
    "\n",
    "This notebook demonstrates that the CSV file is correctly formatted:\n",
    "\n",
    "✅ **Data is properly aligned** - All fields are in their correct columns  \n",
    "✅ **25 fields total** - Matches the extraction_prompt in model_comparison.yaml  \n",
    "✅ **Realistic data** - Valid Australian ABNs, addresses, phone numbers, emails  \n",
    "✅ **Proper CSV formatting** - Addresses with commas are properly quoted  \n",
    "✅ **Ready for evaluation** - Can be used directly with the vision processor evaluation system  \n",
    "\n",
    "The spreadsheet display issue you saw earlier was just a visualization problem, not an actual data formatting issue. The CSV is perfect for model evaluation! 🎯"
   ]
  }
 ],
 "metadata": {
  "kernelspec": {
   "display_name": "unified_vision_processor",
   "language": "python",
   "name": "python3"
  },
  "language_info": {
   "codemirror_mode": {
    "name": "ipython",
    "version": 3
   },
   "file_extension": ".py",
   "mimetype": "text/x-python",
   "name": "python",
   "nbconvert_exporter": "python",
   "pygments_lexer": "ipython3",
   "version": "3.11.13"
  }
 },
 "nbformat": 4,
 "nbformat_minor": 5
}