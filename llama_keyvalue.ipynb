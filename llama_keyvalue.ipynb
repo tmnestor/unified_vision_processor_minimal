{
 "cells": [
  {
   "cell_type": "code",
   "execution_count": null,
   "metadata": {},
   "outputs": [],
   "source": "from pathlib import Path\n\nimport torch\nfrom PIL import Image\nfrom transformers import AutoProcessor, MllamaForConditionalGeneration"
  },
  {
   "cell_type": "code",
   "execution_count": null,
   "metadata": {},
   "outputs": [],
   "source": "model_id = \"/home/jovyan/nfs_share/models/Llama-3.2-11B-Vision-Instruct\"\n# here, specify the name of the image\nimageName = \"/home/jovyan/nfs_share/tod/datasets/synthetic_invoice_014.png\"\n\nmodel = MllamaForConditionalGeneration.from_pretrained(\n    model_id,\n    torch_dtype=torch.bfloat16,\n    device_map=\"auto\",\n)\nprocessor = AutoProcessor.from_pretrained(model_id)\n\n# open the image\nimage = Image.open(imageName)"
  },
  {
   "cell_type": "code",
   "execution_count": null,
   "metadata": {},
   "outputs": [],
   "source": "# Key-value extraction prompt from model_comparison.yaml\nextraction_prompt = \"\"\"Extract data from this business document. \nOutput ALL fields below with their exact keys. \nDO NOT USE \"*\".\nUse \"N/A\" if field is not visible or not present.\n\nREQUIRED OUTPUT FORMAT (output ALL lines exactly as shown):\nDOCUMENT_TYPE: [value or N/A]\nSUPPLIER: [value or N/A]\nABN: [11-digit Australian Business Number or N/A]\nPAYER_NAME: [value or N/A]\nPAYER_ADDRESS: [value or N/A]\nPAYER_PHONE: [value or N/A]\nPAYER_EMAIL: [value or N/A]\nINVOICE_DATE: [value or N/A]\nDUE_DATE: [value or N/A]\nGST: [GST amount in dollars or N/A]\nTOTAL: [total amount in dollars or N/A]\nSUBTOTAL: [subtotal amount in dollars or N/A]\nSUPPLIER_WEBSITE: [value or N/A]\nQUANTITIES: [list of quantities or N/A]\nPRICES: [individual prices in dollars or N/A]\nBUSINESS_ADDRESS: [value or N/A]\nBUSINESS_PHONE: [value or N/A]\nBANK_NAME: [bank name from bank statements only or N/A]\nBSB_NUMBER: [6-digit BSB from bank statements only or N/A]\nBANK_ACCOUNT_NUMBER: [account number from bank statements only or N/A]\nACCOUNT_HOLDER: [value or N/A]\nSTATEMENT_PERIOD: [value or N/A]\nOPENING_BALANCE: [opening balance amount in dollars or N/A]\nCLOSING_BALANCE: [closing balance amount in dollars or N/A]\nDESCRIPTIONS: [list of transaction descriptions or N/A]\n\nCRITICAL: Output in PLAIN TEXT format only. Do NOT use markdown formatting.\n\nCORRECT format: DOCUMENT_TYPE: TAX INVOICE\nWRONG format: **DOCUMENT_TYPE:** TAX INVOICE\nWRONG format: **DOCUMENT_TYPE: TAX INVOICE**\nWRONG format: DOCUMENT_TYPE: **TAX INVOICE**\n\nUse exactly: KEY: value (with colon and space)\nNever use: **KEY:** or **KEY** or any asterisks\nNever use bold, italic, or any markdown formatting\n\nABSOLUTELY CRITICAL: Output EXACTLY 25 lines using ONLY the keys listed above. \nDo NOT add extra fields like \\\"Balance\\\", \\\"Credit\\\", \\\"Debit\\\", \\\"Date\\\", \\\"Description\\\".\nDo NOT include ANY fields not in the required list above.\nInclude ALL 25 keys listed above even if value is N/A.\nSTOP after exactly 25 lines.\"\"\"\n\nprint(\"📋 Using structured key-value extraction prompt\")\nprint(f\"📄 Prompt length: {len(extraction_prompt)} characters\")"
  },
  {
   "cell_type": "code",
   "execution_count": null,
   "metadata": {},
   "outputs": [],
   "source": "# Create message structure for key-value extraction\nmessageDataStructure = [\n    {\n        \"role\": \"user\",\n        \"content\": [\n            {\"type\": \"image\"},\n            {\n                \"type\": \"text\",\n                \"text\": extraction_prompt,\n            },\n        ],\n    }\n]\n\n# create text input\ntextInput = processor.apply_chat_template(\n    messageDataStructure, add_generation_prompt=True\n)\n# call the processor\ninputs = processor(image, textInput, return_tensors=\"pt\").to(model.device)\n\nprint(\"🔧 Processing with Llama-3.2-Vision for key-value extraction...\")\n\n# Generate with appropriate token limit for structured output\noutput = model.generate(**inputs, max_new_tokens=1000)  # Reduced for structured output\n# decode the response\ngeneratedOutput = processor.decode(output[0])\n\nprint(\"✅ Key-value extraction completed!\")\nprint(\"\\n\" + \"=\"*60)\nprint(\"EXTRACTED FIELDS:\")\nprint(\"=\"*60)\nprint(generatedOutput)\nprint(\"=\"*60)"
  },
  {
   "cell_type": "code",
   "execution_count": null,
   "metadata": {},
   "outputs": [],
   "source": "# save the extracted fields to file\noutput_path = Path(\"/home/jovyan/nfs_share/tod/output/llama_keyvalue_output.txt\")\n\n# Ensure output directory exists\noutput_path.parent.mkdir(parents=True, exist_ok=True)\n\nwith output_path.open(\"w\", encoding=\"utf-8\") as text_file:\n    text_file.write(generatedOutput)\n\nprint(f\"✅ Key-value extraction results saved to: {output_path}\")\nprint(f\"📄 File size: {output_path.stat().st_size} bytes\")\n\n# Count extracted fields (simple parsing)\nlines = generatedOutput.split('\\n')\nfield_lines = [line for line in lines if ':' in line and not line.strip().startswith('<')]\nprint(f\"📊 Extracted {len(field_lines)} field lines\")"
  }
 ],
 "metadata": {
  "kernelspec": {
   "display_name": "Python 3",
   "language": "python",
   "name": "python3"
  },
  "language_info": {
   "codemirror_mode": {
    "name": "ipython",
    "version": 3
   },
   "file_extension": ".py",
   "mimetype": "text/x-python",
   "name": "python",
   "nbconvert_exporter": "python",
   "pygments_lexer": "ipython3",
   "version": "3.11.0"
  }
 },
 "nbformat": 4,
 "nbformat_minor": 4
}