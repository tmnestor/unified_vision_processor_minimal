{
 "cells": [
  {
   "cell_type": "code",
   "execution_count": null,
   "metadata": {},
   "outputs": [],
   "source": "# Key-value extraction with InternVL3 (from official docs)\nfrom pathlib import Path\nimport torch\nfrom PIL import Image\nfrom transformers import AutoModel, AutoTokenizer\nimport torchvision.transforms as T\n\n# Use path from model_comparison.yaml\nmodel_id = \"/home/jovyan/nfs_share/models/InternVL3-2B\"\nimageName = \"/home/jovyan/nfs_share/tod/datasets/synthetic_invoice_014.png\"\n\nprint(\"🔧 Loading InternVL3 model for key-value extraction...\")\n\n# Load model with official recommended settings\nmodel = AutoModel.from_pretrained(\n    model_id,\n    torch_dtype=torch.bfloat16,  # Key: bfloat16, not float16!\n    low_cpu_mem_usage=True,\n    trust_remote_code=True\n).eval().cuda()\n\n# Load tokenizer with official settings\ntokenizer = AutoTokenizer.from_pretrained(\n    model_id, \n    trust_remote_code=True, \n    use_fast=False  # Important for InternVL3\n)\n\nprint(\"✅ Model and tokenizer loaded successfully\")\n\n# Load image\nimage = Image.open(imageName)\nprint(f\"📷 Image loaded: {image.size}\")"
  },
  {
   "cell_type": "code",
   "execution_count": null,
   "metadata": {},
   "outputs": [],
   "source": "# Simple image processing (from official InternVL3 docs)\ndef load_image(image, input_size=448):\n    \"\"\"Simple image preprocessing following official InternVL3 docs\"\"\"\n    transform = T.Compose([\n        T.Lambda(lambda img: img.convert('RGB') if img.mode != 'RGB' else img),\n        T.Resize((input_size, input_size)),\n        T.ToTensor(),\n        T.Normalize(mean=(0.485, 0.456, 0.406), std=(0.229, 0.224, 0.225))\n    ])\n    return transform(image).unsqueeze(0).to(torch.bfloat16).cuda()\n\n# Process image\nprint(\"🖼️  Processing image...\")\npixel_values = load_image(image)\nprint(f\"✅ Image processed: {pixel_values.shape}\")"
  },
  {
   "cell_type": "code",
   "execution_count": null,
   "metadata": {},
   "outputs": [],
   "source": "# Key-value extraction prompt from model_comparison.yaml with InternVL3 format\nextraction_prompt = \"\"\"Extract data from this business document. \nOutput ALL fields below with their exact keys. \nUse \"N/A\" if field is not visible or not present.\n\nREQUIRED OUTPUT FORMAT (output ALL lines exactly as shown):\nDOCUMENT_TYPE: [value or N/A]\nSUPPLIER: [value or N/A]\nABN: [11-digit Australian Business Number or N/A]\nPAYER_NAME: [value or N/A]\nPAYER_ADDRESS: [value or N/A]\nPAYER_PHONE: [value or N/A]\nPAYER_EMAIL: [value or N/A]\nINVOICE_DATE: [value or N/A]\nDUE_DATE: [value or N/A]\nGST: [GST amount in dollars or N/A]\nTOTAL: [total amount in dollars or N/A]\nSUBTOTAL: [subtotal amount in dollars or N/A]\nSUPPLIER_WEBSITE: [value or N/A]\nQUANTITIES: [list of quantities or N/A]\nPRICES: [individual prices in dollars or N/A]\nBUSINESS_ADDRESS: [value or N/A]\nBUSINESS_PHONE: [value or N/A]\nBANK_NAME: [bank name from bank statements only or N/A]\nBSB_NUMBER: [6-digit BSB from bank statements only or N/A]\nBANK_ACCOUNT_NUMBER: [account number from bank statements only or N/A]\nACCOUNT_HOLDER: [value or N/A]\nSTATEMENT_PERIOD: [value or N/A]\nOPENING_BALANCE: [opening balance amount in dollars or N/A]\nCLOSING_BALANCE: [closing balance amount in dollars or N/A]\nDESCRIPTIONS: [list of transaction descriptions or N/A]\n\nCRITICAL: Output in PLAIN TEXT format only. Do NOT use markdown formatting.\n\nCORRECT format: DOCUMENT_TYPE: TAX INVOICE\nWRONG format: **DOCUMENT_TYPE:** TAX INVOICE\nWRONG format: **DOCUMENT_TYPE: TAX INVOICE**\nWRONG format: DOCUMENT_TYPE: **TAX INVOICE**\n\nUse exactly: KEY: value (with colon and space)\nNever use: **KEY:** or **KEY** or any asterisks\nNever use bold, italic, or any markdown formatting\n\nABSOLUTELY CRITICAL: Output EXACTLY 25 lines using ONLY the keys listed above. \nDo NOT add extra fields like \\\"Balance\\\", \\\"Credit\\\", \\\"Debit\\\", \\\"Date\\\", \\\"Description\\\".\nDo NOT include ANY fields not in the required list above.\nInclude ALL 25 keys listed above even if value is N/A.\nSTOP after exactly 25 lines.\"\"\"\n\n# InternVL3 format: <image>\\n + prompt\nquestion = f'<image>\\n{extraction_prompt}'\nprint(\"📋 Using structured key-value extraction prompt\")\nprint(f\"📄 Prompt length: {len(extraction_prompt)} characters\")"
  },
  {
   "cell_type": "code",
   "execution_count": null,
   "metadata": {},
   "outputs": [],
   "source": "# Generation config for structured output\ngeneration_config = dict(\n    max_new_tokens=1000,  # Reduced for structured output\n    do_sample=False,      # Deterministic for consistent field extraction\n    pad_token_id=tokenizer.eos_token_id  # Fix the pad_token_id warning\n    # Removed temperature since do_sample=False\n)\n\n# Generate response using simple official API\nprint(\"🤖 Generating key-value extraction with InternVL3...\")\ntry:\n    response = model.chat(tokenizer, pixel_values, question, generation_config)\n    print(\"✅ Key-value extraction completed!\")\n    print(\"\\n\" + \"=\"*60)\n    print(\"EXTRACTED FIELDS:\")\n    print(\"=\"*60)\n    print(response)\n    print(\"=\"*60)\n    \nexcept Exception as e:\n    print(f\"❌ Error during inference: {e}\")\n    print(f\"Error type: {type(e).__name__}\")\n    import traceback\n    traceback.print_exc()"
  },
  {
   "cell_type": "code",
   "execution_count": null,
   "metadata": {},
   "outputs": [],
   "source": "# Save key-value extraction results to file\noutput_path = Path(\"/home/jovyan/nfs_share/tod/output/internvl3_keyvalue_output.txt\")\n\ntry:\n    # Ensure output directory exists\n    output_path.parent.mkdir(parents=True, exist_ok=True)\n    \n    # Write response to file\n    with output_path.open(\"w\", encoding=\"utf-8\") as text_file:\n        text_file.write(response)\n    \n    print(f\"✅ Key-value extraction results saved to: {output_path}\")\n    print(f\"📄 File size: {output_path.stat().st_size} bytes\")\n    \n    # Count extracted fields (simple parsing)\n    lines = response.split('\\n')\n    field_lines = [line for line in lines if ':' in line and not line.strip().startswith('<')]\n    print(f\"📊 Extracted {len(field_lines)} field lines\")\n    \nexcept NameError:\n    print(\"❌ Error: 'response' variable not defined.\")\n    print(\"💡 Please run Cell [4] first to generate the response.\")\n    \nexcept Exception as e:\n    print(f\"❌ Error saving file: {e}\")\n    print(f\"💡 Check if directory exists: {output_path.parent}\")"
  }
 ],
 "metadata": {
  "kernelspec": {
   "display_name": "Python 3",
   "language": "python",
   "name": "python3"
  },
  "language_info": {
   "codemirror_mode": {
    "name": "ipython",
    "version": 3
   },
   "file_extension": ".py",
   "mimetype": "text/x-python",
   "name": "python",
   "nbconvert_exporter": "python",
   "pygments_lexer": "ipython3",
   "version": "3.11.0"
  }
 },
 "nbformat": 4,
 "nbformat_minor": 4
}